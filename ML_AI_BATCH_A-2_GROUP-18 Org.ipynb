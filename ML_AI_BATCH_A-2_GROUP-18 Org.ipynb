{
 "cells": [
  {
   "cell_type": "code",
   "execution_count": 42,
   "id": "261c80b8",
   "metadata": {},
   "outputs": [],
   "source": [
    "# Importing all necessary packages\n",
    "import numpy as np\n",
    "import pandas as pd\n",
    "import matplotlib.pyplot as plt\n",
    "import seaborn as sns\n",
    "from sklearn.model_selection import train_test_split\n",
    "from sklearn import svm\n",
    "from sklearn.metrics import classification_report as cr\n",
    "from sklearn.metrics import confusion_matrix as cm\n",
    "from sklearn.neighbors import KNeighborsClassifier\n",
    "from sklearn.preprocessing import StandardScaler"
   ]
  },
  {
   "cell_type": "code",
   "execution_count": 43,
   "id": "b34a292a",
   "metadata": {},
   "outputs": [
    {
     "data": {
      "text/plain": [
       "1    165\n",
       "0    138\n",
       "Name: target, dtype: int64"
      ]
     },
     "execution_count": 43,
     "metadata": {},
     "output_type": "execute_result"
    }
   ],
   "source": [
    "# Importing the database\n",
    "df=pd.read_csv ('C:\\Users\\tanis\\Documents\\HeartDiseasePredicion\\Heart Disease data.csv')\n",
    "df.columns\n",
    "df.rows\n",
    "df.head()\n",
    "df['target'].value_counts()"
   ]
  },
  {
   "cell_type": "code",
   "execution_count": 44,
   "id": "4398b30c",
   "metadata": {},
   "outputs": [
    {
     "data": {
      "text/plain": [
       "age           int64\n",
       "sex           int64\n",
       "cp          float64\n",
       "trestbps    float64\n",
       "chol        float64\n",
       "fbs         float64\n",
       "restecg     float64\n",
       "thalach     float64\n",
       "exang       float64\n",
       "oldpeak     float64\n",
       "slope       float64\n",
       "ca          float64\n",
       "thal        float64\n",
       "target        int64\n",
       "dtype: object"
      ]
     },
     "execution_count": 44,
     "metadata": {},
     "output_type": "execute_result"
    }
   ],
   "source": [
    "df.dtypes\n",
    "df=df.astype({\"cp\":'float',\"trestbps\":'float',\"chol\":'float',\"fbs\":'float',\n",
    "              \"restecg\":'float',\"thalach\":'float',\"exang\":'float',\n",
    "              \"oldpeak\":'float',\"slope\":'float',\"ca\":'float',\"thal\":'float'}) \n",
    "df.dtypes"
   ]
  },
  {
   "cell_type": "code",
   "execution_count": 45,
   "id": "3dc81fce",
   "metadata": {},
   "outputs": [
    {
     "name": "stdout",
     "output_type": "stream",
     "text": [
      "     sex  target\n",
      "0      1       1\n",
      "1      1       1\n",
      "2      0       1\n",
      "3      1       1\n",
      "4      0       1\n",
      "..   ...     ...\n",
      "160    1       1\n",
      "161    0       1\n",
      "162    1       1\n",
      "163    1       1\n",
      "164    1       1\n",
      "\n",
      "[165 rows x 2 columns]\n"
     ]
    }
   ],
   "source": [
    "# Making a new dataset for plotting a bar plot for sex vs heart disease\n",
    "hd=[1]\n",
    "nd=df[df.target.isin(hd)]\n",
    "nd=nd.drop(['age','cp','trestbps','chol','fbs','restecg','thalach',\n",
    "       'exang','oldpeak','slope','ca','thal'],axis=1)\n",
    "print(nd)"
   ]
  },
  {
   "cell_type": "code",
   "execution_count": 46,
   "id": "9aae99a5",
   "metadata": {},
   "outputs": [
    {
     "data": {
      "text/plain": [
       "1    93\n",
       "0    72\n",
       "Name: sex, dtype: int64"
      ]
     },
     "execution_count": 46,
     "metadata": {},
     "output_type": "execute_result"
    }
   ],
   "source": [
    "# Get the number count of heart disease patient in each sex category\n",
    "nd['sex'].value_counts()"
   ]
  },
  {
   "cell_type": "code",
   "execution_count": 47,
   "id": "03da4ffd",
   "metadata": {},
   "outputs": [
    {
     "data": {
      "image/png": "[encoded data removed]",
      "text/plain": [
       "<Figure size 720x576 with 1 Axes>"
      ]
     },
     "metadata": {
      "needs_background": "light"
     },
     "output_type": "display_data"
    }
   ],
   "source": [
    "# Plotting the graph\n",
    "data = {'Male':93, 'Female':72} \n",
    "courses = list(data.keys()) \n",
    "values = list(data.values()) \n",
    "\n",
    "fig = plt.figure(figsize = (10, 8)) \n",
    "  \n",
    "# creating the bar plot \n",
    "plt.bar(courses, values, color ='orange',  \n",
    "        width = 0.4) \n",
    "  \n",
    "plt.xlabel(\"Sex\") \n",
    "plt.ylabel(\"Count\") \n",
    "plt.title(\"Count of male and female having heart disease\") \n",
    "plt.show() "
   ]
  },
  {
   "cell_type": "code",
   "execution_count": 48,
   "id": "67aac0fc",
   "metadata": {},
   "outputs": [
    {
     "data": {
      "image/png": "[encoded data removed]",
      "text/plain": [
       "<Figure size 432x288 with 1 Axes>"
      ]
     },
     "metadata": {
      "needs_background": "light"
     },
     "output_type": "display_data"
    }
   ],
   "source": [
    "plt.scatter(x=df.age[df.target==1], y=df.thalach[(df.target==1)], c='red')\n",
    "plt.scatter(x=df.age[df.target==0], y=df.thalach[(df.target==0)], c = 'green')\n",
    "plt.legend([\"Disease\", \"Not Disease\"])\n",
    "plt.xlabel(\"Age\")\n",
    "plt.ylabel(\"Maximum Heart Rate\")\n",
    "plt.show()"
   ]
  },
  {
   "cell_type": "code",
   "execution_count": null,
   "id": "72fca4f3",
   "metadata": {},
   "outputs": [],
   "source": []
  },
  {
   "cell_type": "markdown",
   "id": "da6e3549",
   "metadata": {},
   "source": [
    "# Training and testing the data set"
   ]
  },
  {
   "cell_type": "code",
   "execution_count": 49,
   "id": "32e4ac3c",
   "metadata": {},
   "outputs": [],
   "source": [
    "# Splitting the data set\n",
    "df.columns\n",
    "\n",
    "feature_df=df[['age','sex','cp', 'trestbps', 'chol', 'fbs', 'restecg', 'thalach',\n",
    "       'exang', 'oldpeak', 'slope', 'ca', 'thal']]\n",
    "x=np.asarray(feature_df)\n",
    "y=np.asarray(df['target'])"
   ]
  },
  {
   "cell_type": "code",
   "execution_count": 50,
   "id": "ddff602a",
   "metadata": {},
   "outputs": [
    {
     "data": {
      "text/plain": [
       "(61,)"
      ]
     },
     "execution_count": 50,
     "metadata": {},
     "output_type": "execute_result"
    }
   ],
   "source": [
    "# Training the data set\n",
    "\n",
    "x_train,x_test,y_train,y_test=train_test_split(x,y,test_size=0.2,random_state=4)\n",
    "\n",
    "# 242 x 11\n",
    "x_train.shape\n",
    "\n",
    "# 242 x 1\n",
    "y_train.shape\n",
    "\n",
    "# 61 x 11\n",
    "x_test.shape\n",
    "\n",
    "# 61 x 1\n",
    "y_test.shape"
   ]
  },
  {
   "cell_type": "code",
   "execution_count": null,
   "id": "cb0b0423",
   "metadata": {},
   "outputs": [],
   "source": []
  },
  {
   "cell_type": "markdown",
   "id": "ce658b10",
   "metadata": {},
   "source": [
    "# Support vector machines (SVM)"
   ]
  },
  {
   "cell_type": "code",
   "execution_count": 51,
   "id": "b279b016",
   "metadata": {},
   "outputs": [
    {
     "name": "stdout",
     "output_type": "stream",
     "text": [
      "              precision    recall  f1-score   support\n",
      "\n",
      "           0       0.95      0.84      0.89        25\n",
      "           1       0.90      0.97      0.93        36\n",
      "\n",
      "    accuracy                           0.92        61\n",
      "   macro avg       0.93      0.91      0.91        61\n",
      "weighted avg       0.92      0.92      0.92        61\n",
      "\n"
     ]
    }
   ],
   "source": [
    "# Initialising svm and appling it to the test values of the dataset\n",
    "classifier=svm.SVC(kernel='linear',gamma='auto',C=1)\n",
    "classifier.fit(x_test,y_test)\n",
    "y_predict_svm=classifier.predict(x_test)\n",
    "\n",
    "# Printing the accuracy\n",
    "print(cr(y_test,y_predict_svm))"
   ]
  },
  {
   "cell_type": "code",
   "execution_count": 52,
   "id": "bd376a37",
   "metadata": {},
   "outputs": [
    {
     "data": {
      "text/plain": [
       "Text(33.0, 0.5, 'True')"
      ]
     },
     "execution_count": 52,
     "metadata": {},
     "output_type": "execute_result"
    },
    {
     "data": {
      "image/png": "[encoded data removed]",
      "text/plain": [
       "<Figure size 432x288 with 2 Axes>"
      ]
     },
     "metadata": {
      "needs_background": "light"
     },
     "output_type": "display_data"
    }
   ],
   "source": [
    "# Confusion Matrix\n",
    "matrix = cm(y_test, y_predict_svm)\n",
    "sns.heatmap(matrix, annot=True, fmt=\"d\")\n",
    "plt.title('Confusion Matrix')\n",
    "plt.xlabel('Predicted')\n",
    "plt.ylabel('True')\n"
   ]
  },
  {
   "cell_type": "code",
   "execution_count": 53,
   "id": "a481d7c4",
   "metadata": {},
   "outputs": [
    {
     "name": "stdout",
     "output_type": "stream",
     "text": [
      "    Actual value  Predicted value\n",
      "0              1                1\n",
      "1              0                0\n",
      "2              1                1\n",
      "3              1                1\n",
      "4              0                1\n",
      "..           ...              ...\n",
      "56             1                1\n",
      "57             1                1\n",
      "58             0                0\n",
      "59             0                0\n",
      "60             1                1\n",
      "\n",
      "[61 rows x 2 columns]\n"
     ]
    }
   ],
   "source": [
    "#Actual value and the predicted value\n",
    "svm_predic_values = pd.DataFrame({'Actual value': y_test, 'Predicted value': y_predict_svm})\n",
    "print(svm_predic_values)"
   ]
  },
  {
   "cell_type": "code",
   "execution_count": 54,
   "id": "b8903368",
   "metadata": {},
   "outputs": [
    {
     "data": {
      "text/plain": [
       "SVC(random_state=0)"
      ]
     },
     "execution_count": 54,
     "metadata": {},
     "output_type": "execute_result"
    }
   ],
   "source": [
    "feature_df=df[['age','thalach']]\n",
    "Xsvm=np.asarray(feature_df)\n",
    "ysvm=np.asarray(df['target'])\n",
    "Xsvm_train,Xsvm_test,ysvm_train,ysvm_test=train_test_split(Xsvm,ysvm,test_size=0.2,random_state=4)\n",
    "from sklearn.preprocessing import StandardScaler\n",
    "sc = StandardScaler()\n",
    "Xsvm_train = sc.fit_transform(Xsvm_train)\n",
    "Xsvm_test = sc.transform(Xsvm_test)\n",
    "from sklearn.svm import SVC\n",
    "svm = SVC(kernel = 'rbf', random_state = 0)\n",
    "svm.fit(Xsvm_train, ysvm_train)"
   ]
  },
  {
   "cell_type": "code",
   "execution_count": 55,
   "id": "32ae99a4",
   "metadata": {},
   "outputs": [
    {
     "name": "stderr",
     "output_type": "stream",
     "text": [
      "*c* argument looks like a single numeric RGB or RGBA sequence, which should be avoided as value-mapping will have precedence in case its length matches with *x* & *y*.  Please use the *color* keyword-argument or provide a 2-D array with a single row if you intend to specify the same RGB or RGBA value for all points.\n",
      "*c* argument looks like a single numeric RGB or RGBA sequence, which should be avoided as value-mapping will have precedence in case its length matches with *x* & *y*.  Please use the *color* keyword-argument or provide a 2-D array with a single row if you intend to specify the same RGB or RGBA value for all points.\n"
     ]
    },
    {
     "data": {
      "image/png": "[encoded data removed]",
      "text/plain": [
       "<Figure size 432x288 with 1 Axes>"
      ]
     },
     "metadata": {
      "needs_background": "light"
     },
     "output_type": "display_data"
    }
   ],
   "source": [
    "from matplotlib.colors import ListedColormap\n",
    "X_set, y_set = Xsvm_test, ysvm_test\n",
    "X1, X2 = np.meshgrid(np.arange(start = X_set[:, 0].min() - 1, stop = X_set[:, 0].max() + 1, step = 0.01),\n",
    "                     np.arange(start = X_set[:, 1].min() - 1, stop = X_set[:, 1].max() + 1, step = 0.01))\n",
    "plt.contourf(X1, X2, svm.predict(np.array([X1.ravel(), X2.ravel()]).T).reshape(X1.shape),\n",
    "             alpha = 0.75, cmap = ListedColormap(('red', 'green')))\n",
    "plt.xlim(X1.min(), X1.max())\n",
    "plt.ylim(X2.min(), X2.max())\n",
    "for i, j in enumerate(np.unique(y_set)):\n",
    "    plt.scatter(X_set[y_set == j, 0], X_set[y_set == j, 1],\n",
    "                c = ListedColormap(('yellow', 'blue'))(i), label = j)\n",
    "plt.title('SVM Classification')\n",
    "plt.xlabel('Age')\n",
    "plt.ylabel('thalach')\n",
    "plt.legend()\n",
    "plt.show()"
   ]
  },
  {
   "cell_type": "code",
   "execution_count": null,
   "id": "a365bd88",
   "metadata": {},
   "outputs": [],
   "source": []
  },
  {
   "cell_type": "code",
   "execution_count": null,
   "id": "c9beb035",
   "metadata": {},
   "outputs": [],
   "source": []
  },
  {
   "cell_type": "markdown",
   "id": "c05c9684",
   "metadata": {},
   "source": [
    "# K – nearest neighbor classifier (K-NN)"
   ]
  },
  {
   "cell_type": "code",
   "execution_count": 56,
   "id": "f30f3837",
   "metadata": {},
   "outputs": [
    {
     "data": {
      "text/plain": [
       "Text(0, 0.5, 'Error Rate')"
      ]
     },
     "execution_count": 56,
     "metadata": {},
     "output_type": "execute_result"
    },
    {
     "data": {
      "image/png": "[encoded data removed]",
      "text/plain": [
       "<Figure size 720x432 with 1 Axes>"
      ]
     },
     "metadata": {
      "needs_background": "light"
     },
     "output_type": "display_data"
    }
   ],
   "source": [
    "# Finding the best Value for n neighbour\n",
    "error_rate = []\n",
    "for i in range(1,40):\n",
    "    \n",
    "    knn = KNeighborsClassifier(n_neighbors=i)\n",
    "    knn.fit(x_train,y_train)\n",
    "    pred_i = knn.predict(x_test)\n",
    "    error_rate.append(np.mean(pred_i != y_test))\n",
    "\n",
    "plt.figure(figsize=(10,6))\n",
    "plt.plot(range(1,40),error_rate,color='blue', linestyle='dashed', marker='o',\n",
    "         markerfacecolor='red', markersize=10)\n",
    "plt.title('Error Rate vs. K Value')\n",
    "plt.xlabel('K')\n",
    "plt.ylabel('Error Rate')"
   ]
  },
  {
   "cell_type": "code",
   "execution_count": 57,
   "id": "23b4dde0",
   "metadata": {},
   "outputs": [
    {
     "name": "stdout",
     "output_type": "stream",
     "text": [
      "              precision    recall  f1-score   support\n",
      "\n",
      "           0       0.95      0.72      0.82        25\n",
      "           1       0.83      0.97      0.90        36\n",
      "\n",
      "    accuracy                           0.87        61\n",
      "   macro avg       0.89      0.85      0.86        61\n",
      "weighted avg       0.88      0.87      0.86        61\n",
      "\n"
     ]
    }
   ],
   "source": [
    "#Standardising the values\n",
    "scaler = StandardScaler()\n",
    "scaler.fit(x_train)\n",
    "x_train=scaler.transform(x_train)\n",
    "x_test=scaler.transform(x_test)\n",
    "# Applying the knn algorithm with the most accurate value of n neighbout\n",
    "knn = KNeighborsClassifier(n_neighbors=31)\n",
    "knn.fit(x_train,y_train)\n",
    "\n",
    "# Predict the values using knn algorithm\n",
    "y_predict_knn=knn.predict(x_test)\n",
    "\n",
    "# Displaying the accuracy\n",
    "print(cr(y_test, y_predict_knn))"
   ]
  },
  {
   "cell_type": "code",
   "execution_count": 58,
   "id": "418742ba",
   "metadata": {},
   "outputs": [
    {
     "data": {
      "text/plain": [
       "Text(33.0, 0.5, 'True')"
      ]
     },
     "execution_count": 58,
     "metadata": {},
     "output_type": "execute_result"
    },
    {
     "data": {
      "image/png": "[encoded data removed]",
      "text/plain": [
       "<Figure size 432x288 with 2 Axes>"
      ]
     },
     "metadata": {
      "needs_background": "light"
     },
     "output_type": "display_data"
    }
   ],
   "source": [
    "# Confusion Matrix\n",
    "matrix = cm(y_test, y_predict_knn)\n",
    "sns.heatmap(matrix, annot=True, fmt=\"d\")\n",
    "plt.title('Confusion Matrix')\n",
    "plt.xlabel('Predicted')\n",
    "plt.ylabel('True')"
   ]
  },
  {
   "cell_type": "code",
   "execution_count": 59,
   "id": "cdef7533",
   "metadata": {},
   "outputs": [
    {
     "name": "stdout",
     "output_type": "stream",
     "text": [
      "    Actual value  Predicted value\n",
      "0              1                1\n",
      "1              0                0\n",
      "2              1                1\n",
      "3              1                1\n",
      "4              0                1\n",
      "..           ...              ...\n",
      "56             1                1\n",
      "57             1                1\n",
      "58             0                0\n",
      "59             0                0\n",
      "60             1                1\n",
      "\n",
      "[61 rows x 2 columns]\n"
     ]
    }
   ],
   "source": [
    "#Actual value and the predicted value\n",
    "knn_predic_values = pd.DataFrame({'Actual value': y_test, 'Predicted value': y_predict_knn})\n",
    "print(knn_predic_values)"
   ]
  },
  {
   "cell_type": "code",
   "execution_count": null,
   "id": "f8d0ff9b",
   "metadata": {},
   "outputs": [],
   "source": []
  },
  {
   "cell_type": "code",
   "execution_count": 60,
   "id": "42ec9674",
   "metadata": {},
   "outputs": [
    {
     "data": {
      "text/plain": [
       "KNeighborsClassifier(n_neighbors=31)"
      ]
     },
     "execution_count": 60,
     "metadata": {},
     "output_type": "execute_result"
    }
   ],
   "source": [
    "feature_df=df[['age','thalach']]\n",
    "Xknn=np.asarray(feature_df)\n",
    "yknn=np.asarray(df['target'])\n",
    "Xknn_train,Xknn_test,yknn_train,yknn_test=train_test_split(Xknn,yknn,test_size=0.2,random_state=4)\n",
    "from sklearn.preprocessing import StandardScaler\n",
    "\n",
    "scaler = StandardScaler()\n",
    "scaler.fit(Xknn_train)\n",
    "Xknn_train=scaler.transform(Xknn_train)\n",
    "Xknn_test=scaler.transform(Xknn_test)\n",
    "knn1 = KNeighborsClassifier(n_neighbors=31)\n",
    "knn1.fit(Xknn_train,y_train)"
   ]
  },
  {
   "cell_type": "code",
   "execution_count": 61,
   "id": "4f3e15c6",
   "metadata": {},
   "outputs": [
    {
     "name": "stderr",
     "output_type": "stream",
     "text": [
      "*c* argument looks like a single numeric RGB or RGBA sequence, which should be avoided as value-mapping will have precedence in case its length matches with *x* & *y*.  Please use the *color* keyword-argument or provide a 2-D array with a single row if you intend to specify the same RGB or RGBA value for all points.\n",
      "*c* argument looks like a single numeric RGB or RGBA sequence, which should be avoided as value-mapping will have precedence in case its length matches with *x* & *y*.  Please use the *color* keyword-argument or provide a 2-D array with a single row if you intend to specify the same RGB or RGBA value for all points.\n"
     ]
    },
    {
     "data": {
      "image/png": "[encoded data removed]",
      "text/plain": [
       "<Figure size 432x288 with 1 Axes>"
      ]
     },
     "metadata": {
      "needs_background": "light"
     },
     "output_type": "display_data"
    }
   ],
   "source": [
    "from matplotlib.colors import ListedColormap\n",
    "X_set, y_set = Xknn_test, yknn_test\n",
    "X1, X2 = np.meshgrid(np.arange(start = X_set[:, 0].min() - 1, stop = X_set[:, 0].max() + 1, step = 0.01),\n",
    "                     np.arange(start = X_set[:, 1].min() - 1, stop = X_set[:, 1].max() + 1, step = 0.01))\n",
    "plt.contourf(X1, X2, knn1.predict(np.array([X1.ravel(), X2.ravel()]).T).reshape(X1.shape),\n",
    "             alpha = 0.75, cmap = ListedColormap(('red', 'green')))\n",
    "plt.xlim(X1.min(), X1.max())\n",
    "plt.ylim(X2.min(), X2.max())\n",
    "for i, j in enumerate(np.unique(y_set)):\n",
    "    plt.scatter(X_set[y_set == j, 0], X_set[y_set == j, 1],\n",
    "                c = ListedColormap(('yellow', 'blue'))(i), label = j)\n",
    "plt.title('KNN Classification')\n",
    "plt.xlabel('Age')\n",
    "plt.ylabel('thalach')\n",
    "plt.legend()\n",
    "plt.show()"
   ]
  }
 ],
 "metadata": {
  "kernelspec": {
   "display_name": "Python 3",
   "language": "python",
   "name": "python3"
  },
  "language_info": {
   "codemirror_mode": {
    "name": "ipython",
    "version": 3
   },
   "file_extension": ".py",
   "mimetype": "text/x-python",
   "name": "python",
   "nbconvert_exporter": "python",
   "pygments_lexer": "ipython3",
   "version": "3.8.8"
  }
 },
 "nbformat": 4,
 "nbformat_minor": 5
}
